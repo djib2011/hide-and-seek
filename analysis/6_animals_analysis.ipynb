{
 "cells": [
  {
   "cell_type": "markdown",
   "metadata": {},
   "source": [
    "# Fidelity-Interpretability analysison the animals dataset\n",
    "\n",
    "The animals dataset is a subset of the [ILSVRC 2012](http://image-net.org/challenges/LSVRC/2012/), that contains only the classes regarding animals. We prefer this over the complete ImageNet datasetfor a few reasons:\n",
    "\n",
    "- It is a bit smaller (roughly $40\\%$ the size of ImageNet) which allows for more experiments.\n",
    "- It is more difficult to distinguish between the classes, causing the overall task to be harder. This is because we threw out a large portion of the easily-classifiable classes (e.g. street signs), while keeping the hader ones (e.g. tabby cat, tiger cat, Persian cat, Siamese cat, Egyptian cat).\n",
    "\n",
    "Since it's the hardest of all the datasets, the baseline and classification performance is expected to be quite low."
   ]
  },
  {
   "cell_type": "code",
   "execution_count": 1,
   "metadata": {},
   "outputs": [
    {
     "name": "stderr",
     "output_type": "stream",
     "text": [
      "/home/thanos/.envs/dl/lib/python3.5/site-packages/tensorflow/python/framework/dtypes.py:516: FutureWarning: Passing (type, 1) or '1type' as a synonym of type is deprecated; in a future version of numpy, it will be understood as (type, (1,)) / '(1,)type'.\n",
      "  _np_qint8 = np.dtype([(\"qint8\", np.int8, 1)])\n",
      "/home/thanos/.envs/dl/lib/python3.5/site-packages/tensorflow/python/framework/dtypes.py:517: FutureWarning: Passing (type, 1) or '1type' as a synonym of type is deprecated; in a future version of numpy, it will be understood as (type, (1,)) / '(1,)type'.\n",
      "  _np_quint8 = np.dtype([(\"quint8\", np.uint8, 1)])\n",
      "/home/thanos/.envs/dl/lib/python3.5/site-packages/tensorflow/python/framework/dtypes.py:518: FutureWarning: Passing (type, 1) or '1type' as a synonym of type is deprecated; in a future version of numpy, it will be understood as (type, (1,)) / '(1,)type'.\n",
      "  _np_qint16 = np.dtype([(\"qint16\", np.int16, 1)])\n",
      "/home/thanos/.envs/dl/lib/python3.5/site-packages/tensorflow/python/framework/dtypes.py:519: FutureWarning: Passing (type, 1) or '1type' as a synonym of type is deprecated; in a future version of numpy, it will be understood as (type, (1,)) / '(1,)type'.\n",
      "  _np_quint16 = np.dtype([(\"quint16\", np.uint16, 1)])\n",
      "/home/thanos/.envs/dl/lib/python3.5/site-packages/tensorflow/python/framework/dtypes.py:520: FutureWarning: Passing (type, 1) or '1type' as a synonym of type is deprecated; in a future version of numpy, it will be understood as (type, (1,)) / '(1,)type'.\n",
      "  _np_qint32 = np.dtype([(\"qint32\", np.int32, 1)])\n",
      "/home/thanos/.envs/dl/lib/python3.5/site-packages/tensorflow/python/framework/dtypes.py:525: FutureWarning: Passing (type, 1) or '1type' as a synonym of type is deprecated; in a future version of numpy, it will be understood as (type, (1,)) / '(1,)type'.\n",
      "  np_resource = np.dtype([(\"resource\", np.ubyte, 1)])\n",
      "/home/thanos/.envs/dl/lib/python3.5/site-packages/tensorboard/compat/tensorflow_stub/dtypes.py:541: FutureWarning: Passing (type, 1) or '1type' as a synonym of type is deprecated; in a future version of numpy, it will be understood as (type, (1,)) / '(1,)type'.\n",
      "  _np_qint8 = np.dtype([(\"qint8\", np.int8, 1)])\n",
      "/home/thanos/.envs/dl/lib/python3.5/site-packages/tensorboard/compat/tensorflow_stub/dtypes.py:542: FutureWarning: Passing (type, 1) or '1type' as a synonym of type is deprecated; in a future version of numpy, it will be understood as (type, (1,)) / '(1,)type'.\n",
      "  _np_quint8 = np.dtype([(\"quint8\", np.uint8, 1)])\n",
      "/home/thanos/.envs/dl/lib/python3.5/site-packages/tensorboard/compat/tensorflow_stub/dtypes.py:543: FutureWarning: Passing (type, 1) or '1type' as a synonym of type is deprecated; in a future version of numpy, it will be understood as (type, (1,)) / '(1,)type'.\n",
      "  _np_qint16 = np.dtype([(\"qint16\", np.int16, 1)])\n",
      "/home/thanos/.envs/dl/lib/python3.5/site-packages/tensorboard/compat/tensorflow_stub/dtypes.py:544: FutureWarning: Passing (type, 1) or '1type' as a synonym of type is deprecated; in a future version of numpy, it will be understood as (type, (1,)) / '(1,)type'.\n",
      "  _np_quint16 = np.dtype([(\"quint16\", np.uint16, 1)])\n",
      "/home/thanos/.envs/dl/lib/python3.5/site-packages/tensorboard/compat/tensorflow_stub/dtypes.py:545: FutureWarning: Passing (type, 1) or '1type' as a synonym of type is deprecated; in a future version of numpy, it will be understood as (type, (1,)) / '(1,)type'.\n",
      "  _np_qint32 = np.dtype([(\"qint32\", np.int32, 1)])\n",
      "/home/thanos/.envs/dl/lib/python3.5/site-packages/tensorboard/compat/tensorflow_stub/dtypes.py:550: FutureWarning: Passing (type, 1) or '1type' as a synonym of type is deprecated; in a future version of numpy, it will be understood as (type, (1,)) / '(1,)type'.\n",
      "  np_resource = np.dtype([(\"resource\", np.ubyte, 1)])\n"
     ]
    }
   ],
   "source": [
    "import sys\n",
    "sys.path.append('..')\n",
    "\n",
    "from utils.plotting import *\n",
    "\n",
    "%matplotlib inline"
   ]
  },
  {
   "cell_type": "markdown",
   "metadata": {},
   "source": [
    "Load the baseline."
   ]
  },
  {
   "cell_type": "code",
   "execution_count": 2,
   "metadata": {},
   "outputs": [
    {
     "name": "stdout",
     "output_type": "stream",
     "text": [
      "Baseline accuracy: 0.26%\n"
     ]
    }
   ],
   "source": [
    "baseline_loc = '../results/animals/seeker/default/baseline.txt'\n",
    "with open(baseline_loc) as f:\n",
    "    baseline = float(f.read())\n",
    "print('Baseline accuracy: {:.2f}%'.format(baseline * 100))"
   ]
  },
  {
   "cell_type": "markdown",
   "metadata": {},
   "source": [
    "Load the logs."
   ]
  },
  {
   "cell_type": "code",
   "execution_count": 3,
   "metadata": {
    "collapsed": true
   },
   "outputs": [],
   "source": [
    "def read_hns_epoch_logs(path_to_events_file):\n",
    "    logs = {'Average loss per epoch': [],\n",
    "            'Validation accuracy': []}\n",
    "\n",
    "    for e in tf.compat.v1.train.summary_iterator(path_to_events_file):\n",
    "        for v in e.summary.value:\n",
    "            logs[v.tag].append(struct.unpack('f', v.tensor.tensor_content)[0])\n",
    "\n",
    "    if len(logs['Validation accuracy']) < len(logs['Average loss per epoch']):\n",
    "        logs['Validation accuracy'].append(logs['Validation accuracy'][-1])\n",
    "\n",
    "    return pd.DataFrame(logs)\n",
    "\n",
    "def read_hns_batch_logs(path_to_events_file):\n",
    "    logs = {'classification loss': [],\n",
    "            'gradients': [],\n",
    "            'loss monitor': [],\n",
    "            'loss regulator': [],\n",
    "            'mask loss': [],\n",
    "            'percentage hidden': [],\n",
    "            'pixels hidden': [],\n",
    "            'pixels kept': [],\n",
    "            'total loss': []}\n",
    "\n",
    "    for e in tf.compat.v1.train.summary_iterator(path_to_events_file):\n",
    "        for v in e.summary.value:\n",
    "            logs[v.tag].append(struct.unpack('f', v.tensor.tensor_content)[0])\n",
    "            \n",
    "    min_length = min([len(logs[k]) for k in logs])\n",
    "    \n",
    "    for k, v in logs.items():\n",
    "        if len(v) > min_length:\n",
    "            v.pop()\n",
    "            \n",
    "    return pd.DataFrame(logs)"
   ]
  },
  {
   "cell_type": "code",
   "execution_count": 4,
   "metadata": {},
   "outputs": [
    {
     "name": "stderr",
     "output_type": "stream",
     "text": [
      "WARNING: Logging before flag parsing goes to stderr.\n",
      "W0916 12:20:22.355972 139662572812032 deprecation.py:323] From /home/thanos/.envs/dl/lib/python3.5/site-packages/tensorflow/python/summary/summary_iterator.py:68: tf_record_iterator (from tensorflow.python.lib.io.tf_record) is deprecated and will be removed in a future version.\n",
      "Instructions for updating:\n",
      "Use eager execution and: \n",
      "`tf.data.TFRecordDataset(path)`\n"
     ]
    }
   ],
   "source": [
    "location = '../logs/animals/hns/stochastic/st1/pretrained_seeker_const_a_0.98'\n",
    "epoch_logs = read_hns_epoch_logs(str(next((Path(location) / 'epoch').glob('*'))))\n",
    "batch_logs = read_hns_batch_logs(str(next((Path(location) / 'batch').glob('*'))))"
   ]
  },
  {
   "cell_type": "markdown",
   "metadata": {},
   "source": [
    "Plot fidelity and interpretability curves on the same figure. Identify the max fidelity and see the corresponding interpretability."
   ]
  },
  {
   "cell_type": "code",
   "execution_count": 5,
   "metadata": {},
   "outputs": [
    {
     "name": "stderr",
     "output_type": "stream",
     "text": [
      "/home/thanos/.envs/dl/lib/python3.5/site-packages/numpy/core/fromnumeric.py:61: FutureWarning: \n",
      "The current behaviour of 'Series.argmax' is deprecated, use 'idxmax'\n",
      "instead.\n",
      "The behavior of 'argmax' will be corrected to return the positional\n",
      "maximum in the future. For now, use 'series.values.argmax' or\n",
      "'np.argmax(np.array(values))' to get the position of the maximum\n",
      "row.\n",
      "  return bound(*args, **kwds)\n"
     ]
    },
    {
     "data": {
      "text/plain": [
       "Text(0.5, 1.0, 'Fidelity and Interpretability')"
      ]
     },
     "execution_count": 5,
     "metadata": {},
     "output_type": "execute_result"
    },
    {
     "data": {
      "image/png": "[encoded data removed]",
      "text/plain": [
       "<Figure size 432x288 with 1 Axes>"
      ]
     },
     "metadata": {
      "needs_background": "light"
     },
     "output_type": "display_data"
    }
   ],
   "source": [
    "x = np.linspace(0, len(batch_logs), len(epoch_logs))\n",
    "\n",
    "max_fidelity_loc = np.argmax(epoch_logs['Validation accuracy'])\n",
    "max_fidelity = epoch_logs['Validation accuracy'].iloc[max_fidelity_loc] / baseline\n",
    "interpretability_resampled_loc = int(x[max_fidelity_loc])\n",
    "interpretability = batch_logs['percentage hidden'].iloc[interpretability_resampled_loc]\n",
    "\n",
    "plt.plot(batch_logs['percentage hidden'])\n",
    "plt.plot([interpretability_resampled_loc, interpretability_resampled_loc], [min(batch_logs['percentage hidden']), interpretability])\n",
    "plt.plot([0, interpretability_resampled_loc], [interpretability, interpretability], color='C1')\n",
    "plt.scatter([interpretability_resampled_loc], [interpretability], color='C1', zorder=0)\n",
    "\n",
    "plt.plot(x, epoch_logs['Validation accuracy'] / baseline)\n",
    "plt.plot([interpretability_resampled_loc, interpretability_resampled_loc], [min(epoch_logs['Validation accuracy']), max_fidelity], c='C1')\n",
    "plt.plot([0, interpretability_resampled_loc], [max_fidelity, max_fidelity], color='C1')\n",
    "plt.scatter([interpretability_resampled_loc], [max_fidelity], color='C1', zorder=0)\n",
    "\n",
    "plt.xlim(0, x[-1])\n",
    "plt.ylim(40, 100)\n",
    "\n",
    "plt.title('Fidelity and Interpretability')"
   ]
  },
  {
   "cell_type": "markdown",
   "metadata": {},
   "source": [
    "Plot the Fidelity-to-Interpretability Ration (FIR)."
   ]
  },
  {
   "cell_type": "code",
   "execution_count": 6,
   "metadata": {},
   "outputs": [
    {
     "name": "stderr",
     "output_type": "stream",
     "text": [
      "/home/thanos/.envs/dl/lib/python3.5/site-packages/pandas/core/series.py:942: FutureWarning: \n",
      "Passing list-likes to .loc or [] with any missing label will raise\n",
      "KeyError in the future, you can use .reindex() as an alternative.\n",
      "\n",
      "See the documentation here:\n",
      "https://pandas.pydata.org/pandas-docs/stable/indexing.html#deprecate-loc-reindex-listlike\n",
      "  return self.loc[key]\n"
     ]
    },
    {
     "data": {
      "text/plain": [
       "Text(0.5, 1.0, 'FIR')"
      ]
     },
     "execution_count": 6,
     "metadata": {},
     "output_type": "execute_result"
    },
    {
     "data": {
      "image/png": "[encoded data removed]",
      "text/plain": [
       "<Figure size 432x288 with 1 Axes>"
      ]
     },
     "metadata": {
      "needs_background": "light"
     },
     "output_type": "display_data"
    }
   ],
   "source": [
    "fidelity = epoch_logs['Validation accuracy'] / baseline\n",
    "interpret = batch_logs['percentage hidden'][x.astype(int)].fillna(batch_logs['percentage hidden'].iloc[-1]).values\n",
    "fir = fidelity / (interpret + fidelity)\n",
    "plt.plot(x, fir)\n",
    "\n",
    "plt.title('FIR')"
   ]
  },
  {
   "cell_type": "markdown",
   "metadata": {},
   "source": [
    "Numeric info."
   ]
  },
  {
   "cell_type": "code",
   "execution_count": 7,
   "metadata": {},
   "outputs": [
    {
     "name": "stdout",
     "output_type": "stream",
     "text": [
      "Peak Fidelity:                   89.53488644968478\n",
      "Interpretability at that point:  78.81639099121094\n",
      "FIR at that point:               0.5318337217911424\n"
     ]
    }
   ],
   "source": [
    "print('Peak Fidelity:                  ', fidelity[max_fidelity_loc])\n",
    "print('Interpretability at that point: ', interpret[max_fidelity_loc])\n",
    "print('FIR at that point:              ', fir[max_fidelity_loc])"
   ]
  }
 ],
 "metadata": {
  "kernelspec": {
   "display_name": "dl",
   "language": "python",
   "name": "dl"
  },
  "language_info": {
   "codemirror_mode": {
    "name": "ipython",
    "version": 3
   },
   "file_extension": ".py",
   "mimetype": "text/x-python",
   "name": "python",
   "nbconvert_exporter": "python",
   "pygments_lexer": "ipython3",
   "version": "3.5.2"
  }
 },
 "nbformat": 4,
 "nbformat_minor": 2
}
